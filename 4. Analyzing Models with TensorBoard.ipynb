{
 "cells": [
  {
   "cell_type": "code",
   "execution_count": 4,
   "metadata": {},
   "outputs": [],
   "source": [
    "import tensorflow as tf\n",
    "from tensorflow.keras.models import Sequential\n",
    "from tensorflow.keras.layers import Dense, Dropout, Activation, Flatten, Conv2D, MaxPooling2D\n",
    "from tensorflow.keras.callbacks import TensorBoard\n",
    "import pickle\n",
    "import time"
   ]
  },
  {
   "cell_type": "code",
   "execution_count": 6,
   "metadata": {},
   "outputs": [
    {
     "name": "stdout",
     "output_type": "stream",
     "text": [
      "Epoch 1/10\n",
      "  2/702 [..............................] - ETA: 3:33 - loss: 0.6922 - accuracy: 0.5156WARNING:tensorflow:Callbacks method `on_train_batch_end` is slow compared to the batch time (batch time: 0.1659s vs `on_train_batch_end` time: 0.4334s). Check your callbacks.\n",
      "702/702 [==============================] - 128s 182ms/step - loss: 0.6222 - accuracy: 0.6448 - val_loss: 0.5678 - val_accuracy: 0.7118\n",
      "Epoch 2/10\n",
      "702/702 [==============================] - 139s 198ms/step - loss: 0.5333 - accuracy: 0.7361 - val_loss: 0.4908 - val_accuracy: 0.7671\n",
      "Epoch 3/10\n",
      "702/702 [==============================] - 142s 203ms/step - loss: 0.4944 - accuracy: 0.7629 - val_loss: 0.5423 - val_accuracy: 0.7194\n",
      "Epoch 4/10\n",
      "702/702 [==============================] - 141s 201ms/step - loss: 0.4649 - accuracy: 0.7839 - val_loss: 0.4622 - val_accuracy: 0.7848\n",
      "Epoch 5/10\n",
      "702/702 [==============================] - 137s 195ms/step - loss: 0.4440 - accuracy: 0.7940 - val_loss: 0.4405 - val_accuracy: 0.8024\n",
      "Epoch 6/10\n",
      "702/702 [==============================] - 148s 211ms/step - loss: 0.4255 - accuracy: 0.8047 - val_loss: 0.4323 - val_accuracy: 0.8064\n",
      "Epoch 7/10\n",
      "702/702 [==============================] - 141s 201ms/step - loss: 0.4057 - accuracy: 0.8182 - val_loss: 0.4664 - val_accuracy: 0.7812\n",
      "Epoch 8/10\n",
      "702/702 [==============================] - 139s 198ms/step - loss: 0.3911 - accuracy: 0.8238 - val_loss: 0.4458 - val_accuracy: 0.7952\n",
      "Epoch 9/10\n",
      "702/702 [==============================] - 151s 215ms/step - loss: 0.3800 - accuracy: 0.8323 - val_loss: 0.4524 - val_accuracy: 0.7896\n",
      "Epoch 10/10\n",
      "702/702 [==============================] - 150s 214ms/step - loss: 0.3644 - accuracy: 0.8359 - val_loss: 0.4257 - val_accuracy: 0.8036\n"
     ]
    },
    {
     "data": {
      "text/plain": [
       "<tensorflow.python.keras.callbacks.History at 0x193b2906288>"
      ]
     },
     "execution_count": 6,
     "metadata": {},
     "output_type": "execute_result"
    }
   ],
   "source": [
    "## Name our model for logs\n",
    "Name = f\"Cats-vs-Dogs-cnn-64x2-No-Dense-{int(time.time())}\"\n",
    "tensorboard = TensorBoard(log_dir=f'logs/{Name}')\n",
    "\n",
    "## Loading Data\n",
    "X = pickle.load(open(\"X.pickle\", \"rb\"))\n",
    "y = pickle.load(open(\"y.pickle\", \"rb\"))\n",
    "\n",
    "## Normalize Data\n",
    "X = X/255.0\n",
    "\n",
    "## Building our Model\n",
    "model = Sequential()\n",
    "\n",
    "## First conv layer \" conv --> pooling\"\n",
    "model.add(Conv2D(64, (3,3), input_shape=X.shape[1:]))\n",
    "model.add(Activation('relu'))\n",
    "model.add(MaxPooling2D(pool_size=(2,2)))\n",
    "\n",
    "## Second conv layer \" conv --> pooling\"\n",
    "model.add(Conv2D(64, (3,3)))\n",
    "model.add(Activation('relu'))\n",
    "model.add(MaxPooling2D(pool_size=(2,2)))\n",
    "\n",
    "## Add a 1D Dense layer\n",
    "model.add(Flatten())\n",
    "\n",
    "## Add the output layer\n",
    "model.add(Dense(1))\n",
    "model.add(Activation('sigmoid'))\n",
    "\n",
    "## Compile the model \"binary because its dogs and cats\"\n",
    "model.compile(loss='binary_crossentropy',\n",
    "              optimizer='adam',\n",
    "              metrics=['accuracy'])\n",
    "\n",
    "## Fit the model\n",
    "model.fit(X, y, batch_size=32, epochs=10 ,validation_split= 0.1, callbacks=[tensorboard])"
   ]
  },
  {
   "cell_type": "code",
   "execution_count": null,
   "metadata": {},
   "outputs": [],
   "source": []
  }
 ],
 "metadata": {
  "kernelspec": {
   "display_name": "Python 3",
   "language": "python",
   "name": "python3"
  },
  "language_info": {
   "codemirror_mode": {
    "name": "ipython",
    "version": 3
   },
   "file_extension": ".py",
   "mimetype": "text/x-python",
   "name": "python",
   "nbconvert_exporter": "python",
   "pygments_lexer": "ipython3",
   "version": "3.7.4"
  }
 },
 "nbformat": 4,
 "nbformat_minor": 2
}
